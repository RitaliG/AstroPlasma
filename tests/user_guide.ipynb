{
 "cells": [
  {
   "cell_type": "markdown",
   "id": "cbdb7d94",
   "metadata": {},
   "source": [
    "# This is a notebook that demonstrate the basic usage of `AstroPlasma`"
   ]
  },
  {
   "cell_type": "markdown",
   "id": "0828051d",
   "metadata": {},
   "source": [
    "## Ionization modeling\n",
    "\n",
    "This is how one would use astro_plasma for calculating ionization state of a plasma. This would be useful in any modeling that depends on calculating ionization of the plasma. Determining temperautre from density, calculating the free electron density in the plasma are few such examples where `AstroPlasma` can find application."
   ]
  },
  {
   "cell_type": "code",
   "execution_count": 1,
   "id": "5d57f35e",
   "metadata": {},
   "outputs": [],
   "source": [
    "# Import AstroPlasma Ionization module\n",
    "from astro_plasma import Ionization"
   ]
  },
  {
   "cell_type": "markdown",
   "id": "e6f5bf74",
   "metadata": {},
   "source": [
    "### Let us calculate ionization fraction of $\\bf{OVI\\ (O^{5+}})$ \n",
    "\n",
    "In `AstroPlasma` elements are labelled by their atomic number.\n",
    "- Atomic number of the desired element is passed to the `element` argument in several functions of `AstroPlasma`. For example, Oxygen corresponds to `element=8`.\n",
    "- For the ionization state, `AstroPlasma` labels them according to the value passed to the `ion` argument. For example, ionization state III, corresponds to `ion=3`.\n",
    "- Summarizing, to know the ionization state of $\\bf{OVI}$, one needs to pass `element=8` and `ion=6`."
   ]
  },
  {
   "cell_type": "code",
   "execution_count": 2,
   "id": "a1ddc758",
   "metadata": {},
   "outputs": [],
   "source": [
    "fIon = Ionization().interpolate_ion_frac"
   ]
  },
  {
   "cell_type": "markdown",
   "id": "49b37de7",
   "metadata": {},
   "source": [
    "Now we are going to define typical physical values that characterizes an astrophysical plasma."
   ]
  },
  {
   "cell_type": "code",
   "execution_count": 3,
   "id": "239a9607",
   "metadata": {},
   "outputs": [],
   "source": [
    "nH = 1.2e-04 # Hydrogen number density in cm^-3\n",
    "temperature = 4.2e+05 # Temperature of the plasma in kelvin\n",
    "metallicity = 0.99 # Metallicity of plasma with respect to solar\n",
    "redshift = 0.001 # Cosmological redshift\n",
    "mode = \"CIE\""
   ]
  },
  {
   "cell_type": "markdown",
   "id": "1fb5fc1a",
   "metadata": {},
   "source": [
    "**Note**: The mode passed in the above code refers to the equilibrium state of the plasma. Right now, `AstroPlasma` only supports two equilibrium conditions, namely, *collisional ionization equilibrium* (`CIE` in code) and *photo-ionization equilibrium* (`PIE` in code). \n",
    "\n",
    "For *photo-ionization equilibrium*, the photo-ionizing backgrounds that are used in the calculation of the *Cloudy* interpolation tables are *Haardt-Madau (2012)* extra-galactic UV/X-ray diffuse background and *Cosmic Microwave Background (CMB)* at any given redshift."
   ]
  },
  {
   "cell_type": "code",
   "execution_count": 4,
   "id": "8f05819d",
   "metadata": {},
   "outputs": [
    {
     "name": "stdout",
     "output_type": "stream",
     "text": [
      "f_OVI = 9.463e-02\n"
     ]
    }
   ],
   "source": [
    "# Lets get the ionization of OVI\n",
    "element = 8\n",
    "ion = 6\n",
    "fOVI = fIon(nH = nH,\n",
    "            temperature = temperature,\n",
    "            metallicity = metallicity,\n",
    "            redshift = redshift,\n",
    "            element = element,\n",
    "            ion = ion,\n",
    "            mode = mode,\n",
    "            ) # This value is in log10\n",
    "fOVI = pow(10, fOVI)\n",
    "print(f\"f_OVI = {fOVI:.3e}\")"
   ]
  },
  {
   "cell_type": "markdown",
   "id": "11812655",
   "metadata": {},
   "source": [
    "**Note**: \n",
    "- Ionization fraction returned by `AstroPlasma` is in **log10** scale. \n",
    "- As of now, we **do not** support vectorization of these functions and indivdual values must be passed and **not** arrays. This can lead to errors or un-defined behavior."
   ]
  },
  {
   "cell_type": "markdown",
   "id": "30a0e013",
   "metadata": {},
   "source": [
    "One can also caluculate other plasma quantities as follows"
   ]
  },
  {
   "cell_type": "markdown",
   "id": "557ae272",
   "metadata": {},
   "source": [
    "### The total free electron density"
   ]
  },
  {
   "cell_type": "code",
   "execution_count": 5,
   "id": "6bb53883",
   "metadata": {},
   "outputs": [
    {
     "name": "stdout",
     "output_type": "stream",
     "text": [
      "Free electron density = 1.410e-04 cm^-3\n"
     ]
    }
   ],
   "source": [
    "num_dens = Ionization().interpolate_num_dens\n",
    "\n",
    "ne = num_dens(nH = nH,\n",
    "              temperature = temperature,\n",
    "              metallicity = metallicity,\n",
    "              redshift = redshift,\n",
    "              mode = mode,\n",
    "              part_type = \"electron\",\n",
    "              )\n",
    "print(f\"Free electron density = {ne:.3e} cm^-3\")"
   ]
  },
  {
   "cell_type": "markdown",
   "id": "786a972e",
   "metadata": {},
   "source": [
    "In order to get **total particle number density**, use `part_type = \"all\"` and to get **total ion density**, use `part_type = \"ion\"`"
   ]
  },
  {
   "cell_type": "code",
   "execution_count": 6,
   "id": "874f807c",
   "metadata": {},
   "outputs": [
    {
     "name": "stdout",
     "output_type": "stream",
     "text": [
      "Total particle density = 2.714e-04 cm^-3\n",
      "Total ion density = 1.072e-05 cm^-3\n"
     ]
    }
   ],
   "source": [
    "num_dens = Ionization().interpolate_num_dens\n",
    "\n",
    "n = num_dens(nH = nH,\n",
    "              temperature = temperature,\n",
    "              metallicity = metallicity,\n",
    "              redshift = redshift,\n",
    "              mode = mode,\n",
    "              part_type = \"all\",\n",
    "              )\n",
    "ni = num_dens(nH = nH,\n",
    "              temperature = temperature,\n",
    "              metallicity = metallicity,\n",
    "              redshift = redshift,\n",
    "              mode = mode,\n",
    "              part_type = \"ion\",\n",
    "              )\n",
    "print(f\"Total particle density = {n:.3e} cm^-3\")\n",
    "print(f\"Total ion density = {ni:.3e} cm^-3\")"
   ]
  },
  {
   "cell_type": "markdown",
   "id": "f0c3a4f2",
   "metadata": {},
   "source": [
    "Although it is straightforward to obtain mean particle mass, we provide functions to so for the convenience of the user. We use the following relation for calculating these quantities.\n",
    "\n",
    "$$\\rho = n \\mu m_p = n_e \\mu_e m_p = n_i \\mu_i m_p = n_H m_H X^{-1}$$"
   ]
  },
  {
   "cell_type": "code",
   "execution_count": 7,
   "id": "333ce30a",
   "metadata": {},
   "outputs": [
    {
     "name": "stdout",
     "output_type": "stream",
     "text": [
      "Mean particle mass = 0.62 mp\n",
      "Mean free electron mass = 1.19 mp\n",
      "Mean ion mass = 15.65 mp\n"
     ]
    }
   ],
   "source": [
    "mean_mass = Ionization().interpolate_mu\n",
    "\n",
    "mu = mean_mass(nH = nH,\n",
    "               temperature = temperature,\n",
    "               metallicity = metallicity,\n",
    "               redshift = redshift,\n",
    "               mode = mode,\n",
    "               part_type = \"all\",\n",
    "               )\n",
    "mu_e = mean_mass(nH = nH,\n",
    "               temperature = temperature,\n",
    "               metallicity = metallicity,\n",
    "               redshift = redshift,\n",
    "               mode = mode,\n",
    "               part_type = \"electron\",\n",
    "               )\n",
    "mu_i = mean_mass(nH = nH,\n",
    "               temperature = temperature,\n",
    "               metallicity = metallicity,\n",
    "               redshift = redshift,\n",
    "               mode = mode,\n",
    "               part_type = \"ion\",\n",
    "               )\n",
    "print(f\"Mean particle mass = {mu:.2f} mp\")\n",
    "print(f\"Mean free electron mass = {mu_e:.2f} mp\")\n",
    "print(f\"Mean ion mass = {mu_i:.2f} mp\")"
   ]
  },
  {
   "cell_type": "markdown",
   "id": "be8d6bbf",
   "metadata": {},
   "source": [
    "## Emission spectrum\n",
    "\n",
    "`AstroPlasma` can be used in determing the emission spectrum emitted from a *one-zone* plasma. Here's the code that does that. This can be used as a starting point for modeling plasma emission from astrophysical objects like the *circumgalactic medium* or *galaxy clusters* by stacking emission from multiple such one-zones."
   ]
  },
  {
   "cell_type": "code",
   "execution_count": 8,
   "id": "ee9c6c5d",
   "metadata": {},
   "outputs": [],
   "source": [
    "# Import AstroPlasma EmissionSpectrum module\n",
    "from astro_plasma import EmissionSpectrum"
   ]
  },
  {
   "cell_type": "code",
   "execution_count": 9,
   "id": "2b8284de",
   "metadata": {},
   "outputs": [],
   "source": [
    "gen_spectrum = EmissionSpectrum().interpolate_spectrum\n",
    "\n",
    "# Generate spectrum\n",
    "spectrum = gen_spectrum(nH = nH,\n",
    "               temperature = temperature,\n",
    "               metallicity = metallicity,\n",
    "               redshift = redshift,\n",
    "               mode = mode\n",
    "               )"
   ]
  },
  {
   "cell_type": "markdown",
   "id": "e75ca80b",
   "metadata": {},
   "source": [
    "Let us plot the spectrum generated by `AstroPlasma`"
   ]
  },
  {
   "cell_type": "code",
   "execution_count": 14,
   "id": "8197aefe",
   "metadata": {},
   "outputs": [],
   "source": [
    "import matplotlib\n",
    "import matplotlib.pyplot as plt\n",
    "import numpy as np\n",
    "\n",
    "## Plot Styling for a pretty plot\n",
    "page_style = \"dark\"\n",
    "matplotlib.rcParams[\"xtick.direction\"] = \"in\"\n",
    "matplotlib.rcParams[\"ytick.direction\"] = \"in\"\n",
    "matplotlib.rcParams[\"xtick.top\"] = True\n",
    "matplotlib.rcParams[\"ytick.right\"] = True\n",
    "matplotlib.rcParams[\"xtick.minor.visible\"] = True\n",
    "matplotlib.rcParams[\"xtick.labelcolor\"] = \"white\" if page_style==\"dark\" else \"black\"\n",
    "matplotlib.rcParams[\"ytick.minor.visible\"] = True\n",
    "matplotlib.rcParams[\"axes.grid\"] = True\n",
    "matplotlib.rcParams[\"grid.color\"] = \"white\" if page_style==\"dark\" else \"#b0b0b0\"\n",
    "matplotlib.rcParams[\"axes.edgecolor\"] = \"white\" if page_style==\"dark\" else \"black\"\n",
    "matplotlib.rcParams[\"lines.dash_capstyle\"] = \"round\"\n",
    "matplotlib.rcParams[\"lines.solid_capstyle\"] = \"round\"\n",
    "matplotlib.rcParams[\"legend.handletextpad\"] = 0.4\n",
    "matplotlib.rcParams[\"axes.linewidth\"] = 0.8\n",
    "matplotlib.rcParams[\"lines.linewidth\"] = 1.0\n",
    "matplotlib.rcParams[\"ytick.major.width\"] = 0.6\n",
    "matplotlib.rcParams[\"xtick.major.width\"] = 0.6\n",
    "matplotlib.rcParams[\"ytick.minor.width\"] = 0.45\n",
    "matplotlib.rcParams[\"xtick.minor.width\"] = 0.45\n",
    "matplotlib.rcParams[\"ytick.major.size\"] = 4.0\n",
    "matplotlib.rcParams[\"xtick.major.size\"] = 4.0\n",
    "matplotlib.rcParams[\"ytick.minor.size\"] = 2.0\n",
    "matplotlib.rcParams[\"xtick.minor.size\"] = 2.0\n",
    "matplotlib.rcParams[\"axes.labelcolor\"] = \"white\" if page_style==\"dark\" else \"black\"\n",
    "matplotlib.rcParams[\"xtick.labelcolor\"] = \"white\" if page_style==\"dark\" else \"black\"\n",
    "matplotlib.rcParams[\"ytick.labelcolor\"] = \"white\" if page_style==\"dark\" else \"black\"\n",
    "matplotlib.rcParams[\"xtick.color\"] = \"white\" if page_style==\"dark\" else \"black\"\n",
    "matplotlib.rcParams[\"ytick.color\"] = \"white\" if page_style==\"dark\" else \"black\"\n",
    "matplotlib.rcParams[\"legend.handlelength\"] = 2\n",
    "matplotlib.rcParams[\"figure.dpi\"] = 200\n",
    "matplotlib.rcParams[\"axes.axisbelow\"] = True"
   ]
  },
  {
   "cell_type": "code",
   "execution_count": 15,
   "id": "f88cc9e0",
   "metadata": {},
   "outputs": [
    {
     "data": {
      "image/png": "[encoded data removed]",
      "text/plain": [
       "<Figure size 1280x960 with 1 Axes>"
      ]
     },
     "metadata": {},
     "output_type": "display_data"
    }
   ],
   "source": [
    "plt.loglog(spectrum[:,0], spectrum[:,1], color=\"tab:cyan\" if page_style==\"dark\" else \"tab:blue\")\n",
    "plt.xlabel(r\"Energy (keV)\")\n",
    "plt.ylabel(r\"Emissivity $4 \\pi \\nu j_{\\nu}$ ($erg\\ cm^{-3} s^{-1}$)\")\n",
    "plt.xlim(xmin = 1.0e-10, xmax=3.2)\n",
    "plt.savefig(f\"sample_spectrum_{page_style}.png\", transparent=True)\n",
    "plt.show()"
   ]
  },
  {
   "cell_type": "code",
   "execution_count": null,
   "id": "c9c16dbc",
   "metadata": {},
   "outputs": [],
   "source": []
  }
 ],
 "metadata": {
  "kernelspec": {
   "display_name": "Python 3 (ipykernel)",
   "language": "python",
   "name": "python3"
  },
  "language_info": {
   "codemirror_mode": {
    "name": "ipython",
    "version": 3
   },
   "file_extension": ".py",
   "mimetype": "text/x-python",
   "name": "python",
   "nbconvert_exporter": "python",
   "pygments_lexer": "ipython3",
   "version": "3.8.10"
  }
 },
 "nbformat": 4,
 "nbformat_minor": 5
}
